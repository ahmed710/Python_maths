{
 "cells": [
  {
   "cell_type": "markdown",
   "metadata": {},
   "source": [
    "# Initiation à la programmation sous Python pour le calcul scientifique (partie 2)"
   ]
  },
  {
   "cell_type": "markdown",
   "metadata": {},
   "source": [
    "# Partie I : Manipulation des matrices\n",
    "\n"
   ]
  },
  {
   "cell_type": "markdown",
   "metadata": {},
   "source": [
    "Nous importons le module `numpy` qui permet de manipuler les vecteurs, entre autres les matrices, et qui contient de \n",
    "\n",
    "différentes fonctions mathématiques.\n",
    "\n",
    "Le contenu de ce package est donné par la commande ```dir(numpy)``` après l'avoir importé bien évidemment."
   ]
  },
  {
   "cell_type": "code",
   "execution_count": 18,
   "metadata": {},
   "outputs": [],
   "source": [
    "import numpy as np \n",
    "#dir(np)\n",
    "# L'appelation des fonctions se fait en tappant np.le_nom_de_la_fonction"
   ]
  },
  {
   "cell_type": "markdown",
   "metadata": {},
   "source": [
    "## Déclaration et affichage d'une matrice  \n",
    "1. Déclarer la matrice suivante:\n",
    " $$A=\\begin{pmatrix}\n",
    "      4 & 3 & 3 & 3 \\\\\n",
    "      2 & 4 & 3 & 3 \\\\\n",
    "      2 & 2 & 4 & \\pi \\\\\n",
    "      2 & 2 & 2 & 0.5\\\\\n",
    "    \\end{pmatrix}$$\n",
    "    \n",
    "$\\Rightarrow$ Pour déclarer la matrice $A$, on utilise `np.array(liste[listes])`, chaque liste est une ligne de la matrice $A$."
   ]
  },
  {
   "cell_type": "code",
   "execution_count": null,
   "metadata": {},
   "outputs": [],
   "source": []
  },
  {
   "cell_type": "code",
   "execution_count": 2,
   "metadata": {},
   "outputs": [],
   "source": [
    "#réponse\n",
    "A=np.array([[4,3,3,3],[2, 4, 3, 3],[2,2,4,np.pi], [2, 2, 2, 0.5]]) # une matrice, est déclarée comme une liste de listes "
   ]
  },
  {
   "cell_type": "markdown",
   "metadata": {},
   "source": [
    "2. Afficher la matrice $A$ anisi que son type."
   ]
  },
  {
   "cell_type": "code",
   "execution_count": 3,
   "metadata": {},
   "outputs": [
    {
     "name": "stdout",
     "output_type": "stream",
     "text": [
      "[[4.         3.         3.         3.        ]\n",
      " [2.         4.         3.         3.        ]\n",
      " [2.         2.         4.         3.14159265]\n",
      " [2.         2.         2.         0.5       ]] <class 'numpy.ndarray'>\n"
     ]
    }
   ],
   "source": [
    "print(A, type(A))"
   ]
  },
  {
   "cell_type": "markdown",
   "metadata": {},
   "source": [
    "3. Afficher la dimension de $A$ en utilsiant la commande ``shape()`` puis par `np.shape()`"
   ]
  },
  {
   "cell_type": "code",
   "execution_count": 4,
   "metadata": {},
   "outputs": [],
   "source": [
    "#réponse\n",
    "#print(A.shape)\n",
    "#ou bien on utilise\n",
    "#np.shape(A)"
   ]
  },
  {
   "cell_type": "markdown",
   "metadata": {},
   "source": [
    "## Opérations sur les matrices\n",
    "1. Afficher les élements $0.5$ et $\\pi$ de la matrice $A$.\n"
   ]
  },
  {
   "cell_type": "code",
   "execution_count": 1,
   "metadata": {},
   "outputs": [],
   "source": [
    "#Executer et commenter\n",
    "#.......................\n",
    "#......................."
   ]
  },
  {
   "cell_type": "markdown",
   "metadata": {},
   "source": [
    "**Remarque :**\n",
    "\n",
    "Les compteurs des lignes et des colonnes commencent par 0."
   ]
  },
  {
   "cell_type": "markdown",
   "metadata": {},
   "source": [
    "2. Afficher $V$ la sous matrice de $A$ formée  par la deuxième colonne de $A$.\n",
    "\n",
    "- `A[:,n:m]` est une sous matrice de $A$ avec `:` represente toutes les lignes et `n:m` represente les colonnes de $n$ à $m-1$."
   ]
  },
  {
   "cell_type": "code",
   "execution_count": 2,
   "metadata": {},
   "outputs": [],
   "source": [
    "#Completer et executer\n",
    "#V=...................\n",
    "#print(V)"
   ]
  },
  {
   "cell_type": "markdown",
   "metadata": {},
   "source": [
    "3. Afficher $W$ la sous matrice de $A$ formée  par la deuxième et la troisième colonne de $A$."
   ]
  },
  {
   "cell_type": "code",
   "execution_count": 3,
   "metadata": {},
   "outputs": [],
   "source": [
    "#Completer et executer\n",
    "#W=.............................\n",
    "#print(W)"
   ]
  },
  {
   "cell_type": "markdown",
   "metadata": {},
   "source": [
    "4. Créer la matrice $B$, une copie de $A$, puis l'afficher."
   ]
  },
  {
   "cell_type": "code",
   "execution_count": 8,
   "metadata": {},
   "outputs": [
    {
     "name": "stdout",
     "output_type": "stream",
     "text": [
      "[[4.         3.         3.         3.        ]\n",
      " [2.         4.         3.         3.        ]\n",
      " [2.         2.         4.         3.14159265]\n",
      " [2.         2.         2.         0.5       ]]\n"
     ]
    }
   ],
   "source": [
    "B=A.copy()\n",
    "print(B)"
   ]
  },
  {
   "cell_type": "markdown",
   "metadata": {},
   "source": [
    "**Remarque**"
   ]
  },
  {
   "cell_type": "markdown",
   "metadata": {},
   "source": [
    "- `B=A.copy()` entraine la création d'une nouvelle matrice `B` et laisser la matrice `A` intact.\n",
    "- `B=A` entraine que toute modification sur `B` enjendre la même modification sur `A`."
   ]
  },
  {
   "cell_type": "markdown",
   "metadata": {},
   "source": [
    "5. Remplacer $\\pi$ dans la matrice $B$ par $e$ puis afficher la nouvelle  matrice."
   ]
  },
  {
   "cell_type": "code",
   "execution_count": 4,
   "metadata": {},
   "outputs": [],
   "source": [
    "#Completer et executer\n",
    "#B[....,....]=np.e\n",
    "#print(B)"
   ]
  },
  {
   "cell_type": "markdown",
   "metadata": {},
   "source": [
    "6. Remplacer la quatrième ligne de la matrice $B$ par  le vecteur $[1,1,1,1]$ puis afficher la nouvelle  matrice."
   ]
  },
  {
   "cell_type": "code",
   "execution_count": 5,
   "metadata": {},
   "outputs": [],
   "source": [
    "#Completer et executer\n",
    "#B[3,...:....]=[1,1,1,1] \n",
    "#print(B)"
   ]
  },
  {
   "cell_type": "markdown",
   "metadata": {},
   "source": [
    "7. Afficher la diagonale de $A$."
   ]
  },
  {
   "cell_type": "code",
   "execution_count": 11,
   "metadata": {},
   "outputs": [
    {
     "name": "stdout",
     "output_type": "stream",
     "text": [
      "[4.  4.  4.  0.5]\n"
     ]
    }
   ],
   "source": [
    "#...................."
   ]
  },
  {
   "cell_type": "markdown",
   "metadata": {},
   "source": [
    "8. Afficher la première sous diagonale de $A$."
   ]
  },
  {
   "cell_type": "code",
   "execution_count": 6,
   "metadata": {},
   "outputs": [],
   "source": [
    "#....................\n",
    "#print(A)"
   ]
  },
  {
   "cell_type": "markdown",
   "metadata": {},
   "source": [
    "9. Afficher la deuxième sur diagonale de $A$."
   ]
  },
  {
   "cell_type": "code",
   "execution_count": 7,
   "metadata": {},
   "outputs": [],
   "source": [
    "#print(....... )\n",
    "#print(A)"
   ]
  },
  {
   "cell_type": "markdown",
   "metadata": {},
   "source": [
    "10. Afficher la matrice triangulaire inférieure associée à $A$."
   ]
  },
  {
   "cell_type": "code",
   "execution_count": 8,
   "metadata": {},
   "outputs": [],
   "source": [
    "#print(np.tril(A)) # l=lower"
   ]
  },
  {
   "cell_type": "markdown",
   "metadata": {},
   "source": [
    "11. Afficher la matrice triangulaire supérieure associée à $A$."
   ]
  },
  {
   "cell_type": "code",
   "execution_count": 9,
   "metadata": {},
   "outputs": [],
   "source": [
    "#print(np.triu(A)) #u=upper"
   ]
  },
  {
   "cell_type": "markdown",
   "metadata": {},
   "source": [
    "12. Calculer les produits matriciels  $A*V$, $A*W$, $A^2$ et $A^5$."
   ]
  },
  {
   "cell_type": "code",
   "execution_count": 10,
   "metadata": {},
   "outputs": [],
   "source": [
    "#A.dot(V)# A*V"
   ]
  },
  {
   "cell_type": "code",
   "execution_count": null,
   "metadata": {},
   "outputs": [],
   "source": [
    "#A.dot(W)#A* W"
   ]
  },
  {
   "cell_type": "code",
   "execution_count": 11,
   "metadata": {},
   "outputs": [],
   "source": [
    "#A**2#  la matrice contenant les carrés des élmenents de A. "
   ]
  },
  {
   "cell_type": "code",
   "execution_count": null,
   "metadata": {},
   "outputs": [],
   "source": []
  },
  {
   "cell_type": "code",
   "execution_count": null,
   "metadata": {},
   "outputs": [],
   "source": []
  },
  {
   "cell_type": "markdown",
   "metadata": {},
   "source": [
    "13. Afficher  la matrice transposée de $A$."
   ]
  },
  {
   "cell_type": "code",
   "execution_count": 12,
   "metadata": {},
   "outputs": [],
   "source": [
    "# 1ére méthode\n",
    "#print(A.transpose())"
   ]
  },
  {
   "cell_type": "code",
   "execution_count": 13,
   "metadata": {},
   "outputs": [],
   "source": [
    "#2 ème méthode\n",
    "#print(A.T)"
   ]
  },
  {
   "cell_type": "markdown",
   "metadata": {},
   "source": [
    "14. Construire une matrice diagonale $C$ contenant  le vecteur $[-2,1,2]$ sur la diagonale."
   ]
  },
  {
   "cell_type": "code",
   "execution_count": 21,
   "metadata": {},
   "outputs": [
    {
     "name": "stdout",
     "output_type": "stream",
     "text": [
      "[[-2  0  0]\n",
      " [ 0  1  0]\n",
      " [ 0  0  2]]\n"
     ]
    }
   ],
   "source": [
    "U= [-2,1,2]\n",
    "C=np.diagflat(U)\n",
    "print(C)"
   ]
  },
  {
   "cell_type": "markdown",
   "metadata": {},
   "source": [
    "15. Construire $D$ une matrice diagonale dont sa diagonale est celle de la matrice $A$."
   ]
  },
  {
   "cell_type": "code",
   "execution_count": 22,
   "metadata": {},
   "outputs": [
    {
     "name": "stdout",
     "output_type": "stream",
     "text": [
      "[[4.  0.  0.  0. ]\n",
      " [0.  4.  0.  0. ]\n",
      " [0.  0.  4.  0. ]\n",
      " [0.  0.  0.  0.5]]\n"
     ]
    }
   ],
   "source": [
    "D=np.diagflat(np.diag(A))\n",
    "print(D)"
   ]
  },
  {
   "cell_type": "markdown",
   "metadata": {},
   "source": [
    "**Activité  (asynchrone)**  \n",
    "\n",
    "Exécuter et commenter"
   ]
  },
  {
   "cell_type": "code",
   "execution_count": 24,
   "metadata": {},
   "outputs": [],
   "source": [
    "#np.trace(A)\n",
    "#np.sum(A)\n",
    "#np.argmax(A,axis=1)\n",
    "#print(np.triu(A,2))\n",
    "#print(B/2)\n",
    "#print(B-4)\n",
    "#print(B*2)\n",
    "#print(np.sqrt(B))\n",
    "#print(-B)"
   ]
  },
  {
   "cell_type": "markdown",
   "metadata": {},
   "source": [
    "### Matrices particulières"
   ]
  },
  {
   "cell_type": "markdown",
   "metadata": {},
   "source": [
    "1. Matrice identité:"
   ]
  },
  {
   "cell_type": "code",
   "execution_count": 25,
   "metadata": {},
   "outputs": [
    {
     "name": "stdout",
     "output_type": "stream",
     "text": [
      "[[1. 0. 0. 0.]\n",
      " [0. 1. 0. 0.]\n",
      " [0. 0. 1. 0.]\n",
      " [0. 0. 0. 1.]]\n"
     ]
    }
   ],
   "source": [
    "#1 ére méthode\n",
    "I=np.identity(4) \n",
    "print(I)"
   ]
  },
  {
   "cell_type": "code",
   "execution_count": 26,
   "metadata": {},
   "outputs": [
    {
     "name": "stdout",
     "output_type": "stream",
     "text": [
      "[[1. 0. 0.]\n",
      " [0. 1. 0.]\n",
      " [0. 0. 1.]]\n"
     ]
    }
   ],
   "source": [
    "# 2 ème méthode\n",
    "J= np.eye(3)\n",
    "print(J)"
   ]
  },
  {
   "cell_type": "markdown",
   "metadata": {},
   "source": [
    "2. Matrice nulle d'ordre $n*p$."
   ]
  },
  {
   "cell_type": "code",
   "execution_count": 27,
   "metadata": {},
   "outputs": [
    {
     "name": "stdout",
     "output_type": "stream",
     "text": [
      "[[0 0]\n",
      " [0 0]\n",
      " [0 0]]\n"
     ]
    }
   ],
   "source": [
    "O=np.zeros((3,2),int) # nombre de ligne, nombre de colonnes et de type entier\n",
    "print(O)"
   ]
  },
  {
   "cell_type": "markdown",
   "metadata": {},
   "source": [
    "3. Matrice composée des $1$ d'ordre $n*p$."
   ]
  },
  {
   "cell_type": "code",
   "execution_count": 28,
   "metadata": {},
   "outputs": [
    {
     "name": "stdout",
     "output_type": "stream",
     "text": [
      "[[1. 1. 1. 1. 1.]\n",
      " [1. 1. 1. 1. 1.]\n",
      " [1. 1. 1. 1. 1.]\n",
      " [1. 1. 1. 1. 1.]]\n"
     ]
    }
   ],
   "source": [
    "U=np.ones((4,5),float)# nombre de ligne, nombre de colonnes et de type float\n",
    "print(U)"
   ]
  },
  {
   "cell_type": "markdown",
   "metadata": {},
   "source": [
    "4. La fonction `.reshape(n,m)` permet de transformer une matrice de dimension `(p,k)` en une matrice de dimension `(n,m)` \n",
    "à condition que   `p*k=n*m`"
   ]
  },
  {
   "cell_type": "code",
   "execution_count": 29,
   "metadata": {},
   "outputs": [
    {
     "name": "stdout",
     "output_type": "stream",
     "text": [
      "[[1 2 3 4]\n",
      " [2 3 0 6]]\n",
      "[[1 2]\n",
      " [3 4]\n",
      " [2 3]\n",
      " [0 6]]\n"
     ]
    }
   ],
   "source": [
    "mat=np.array([[1,2,3,4],[2,3,0,6]])\n",
    "print(mat)\n",
    "Mat=mat.reshape(4,2)\n",
    "print(Mat)"
   ]
  },
  {
   "cell_type": "markdown",
   "metadata": {},
   "source": [
    "**Remarque**\n",
    "\n",
    "Pour calculer un déterminant, inverser une matrice, résoudre un système d'équations linéaires, etc $\\dots$, \n",
    "\n",
    "nous faisons appel au sous module `.linalg` de numpy\n",
    "\n"
   ]
  },
  {
   "cell_type": "markdown",
   "metadata": {},
   "source": [
    "**Exercice (10):  Résolution d'un système de Cramer.**"
   ]
  },
  {
   "cell_type": "markdown",
   "metadata": {},
   "source": [
    "Soit le système d'équations linéaires suivant : $MX=b$, avec :\n",
    "\n",
    "$$M=\\begin{pmatrix}\n",
    "4 & -1 & -1 & 0 \\\\\n",
    "      -1 & 4 &  0 & -1 \\\\\n",
    "      -1 & 0 & 4 & -1 \\\\\n",
    "      0 & -1 & -1 & 4\\\\\n",
    "    \\end{pmatrix}, \\; X=\\begin{pmatrix}\n",
    "x_1 \\\\\n",
    "      x_2 \\\\\n",
    "      x_3 \\\\\n",
    "      x_4\\\\\n",
    "    \\end{pmatrix},\\; \\mbox{et} \\;  b=\\begin{pmatrix}\n",
    "50 \\\\\n",
    "      30 \\\\\n",
    "      70 \\\\\n",
    "      50\\\\\n",
    "    \\end{pmatrix},$$\n",
    "    "
   ]
  },
  {
   "cell_type": "markdown",
   "metadata": {},
   "source": [
    " 1.  Ecrire les matrices $M$ et $b$."
   ]
  },
  {
   "cell_type": "code",
   "execution_count": 14,
   "metadata": {},
   "outputs": [],
   "source": [
    "#M=...................................#les éléments de M doivent être de type float\n",
    "#b=...................................\n"
   ]
  },
  {
   "cell_type": "markdown",
   "metadata": {},
   "source": [
    "2.  Montrer que le système est de Cramer."
   ]
  },
  {
   "cell_type": "code",
   "execution_count": 15,
   "metadata": {},
   "outputs": [],
   "source": [
    "#on vérifie que det(A)#0\n",
    "#np.linalg.det(M)"
   ]
  },
  {
   "cell_type": "markdown",
   "metadata": {},
   "source": [
    " 3.  Résoudre le système"
   ]
  },
  {
   "cell_type": "code",
   "execution_count": 16,
   "metadata": {},
   "outputs": [],
   "source": [
    "# X=M^-1 b\n",
    "#X=.................\n",
    "#X"
   ]
  },
  {
   "cell_type": "markdown",
   "metadata": {},
   "source": [
    "## `np.arange()` et `np.linspace` "
   ]
  },
  {
   "cell_type": "markdown",
   "metadata": {},
   "source": [
    "\n",
    "- **Les fonctions `np.arange()` et `np.linspace` retournent un objet de type `numpy.ndarray`.**"
   ]
  },
  {
   "cell_type": "markdown",
   "metadata": {},
   "source": [
    "- `np.arange(n,m)` permet d’obtenir un tableau 1D de la valeur de départ `n` à la valeur de fin `m-1` avec un pas `1`."
   ]
  },
  {
   "cell_type": "code",
   "execution_count": 38,
   "metadata": {},
   "outputs": [],
   "source": [
    "#np.arange(2,8)"
   ]
  },
  {
   "cell_type": "markdown",
   "metadata": {},
   "source": [
    "- `np.arange(m)` permet d’obtenir un tableau 1D de la valeur de départ `0` à la valeur de fin `m-1` avec un pas `1`."
   ]
  },
  {
   "cell_type": "code",
   "execution_count": 39,
   "metadata": {},
   "outputs": [],
   "source": [
    "#np.arange(8)"
   ]
  },
  {
   "cell_type": "markdown",
   "metadata": {},
   "source": [
    "- `np.arange(n,m,p)` permet d’obtenir un tableau 1D de la valeur de départ `n` à la valeur de fin `m-1` avec un pas `p`."
   ]
  },
  {
   "cell_type": "code",
   "execution_count": 40,
   "metadata": {},
   "outputs": [],
   "source": [
    "#np.arange(2,8,2)"
   ]
  },
  {
   "cell_type": "markdown",
   "metadata": {},
   "source": [
    "- `np.linspace(n,m,p)`  permet d’obtenir un tableau 1D contenant p coefficient allant d’une valeur de départ `n` à une valeur de fin `m`."
   ]
  },
  {
   "cell_type": "code",
   "execution_count": 41,
   "metadata": {},
   "outputs": [],
   "source": [
    "#Exemple \n",
    "#np.linspace(-1,1,5)"
   ]
  },
  {
   "cell_type": "markdown",
   "metadata": {},
   "source": [
    "**Exercice(11) : (synchrone)**    \n",
    "- Ecrire une fonction ``def_mat`` qui prend à l’entrée un entier $n≥2$ et affiche la matrice $A$ définie par $A=(a_{ij})_{i,j\\in\\{1,...,n\\}}$ tel que \n",
    "\n",
    "\n",
    "$$a_{ij}=\\left \\{\n",
    "\\begin{array}{rcl}\n",
    "i+j+1 \\quad \\textrm{si} \\quad i>j\\\\\n",
    "i+j-1 \\quad \\textrm{si} \\quad i<j\\\\\n",
    "i \\quad \\textrm{si } \\quad i=j\n",
    "\\end{array}\n",
    "\\right.$$ "
   ]
  },
  {
   "cell_type": "code",
   "execution_count": 42,
   "metadata": {},
   "outputs": [
    {
     "ename": "SyntaxError",
     "evalue": "invalid syntax (<ipython-input-42-49a2dabfa825>, line 4)",
     "output_type": "error",
     "traceback": [
      "\u001b[1;36m  File \u001b[1;32m\"<ipython-input-42-49a2dabfa825>\"\u001b[1;36m, line \u001b[1;32m4\u001b[0m\n\u001b[1;33m    for i in .........................:\u001b[0m\n\u001b[1;37m                ^\u001b[0m\n\u001b[1;31mSyntaxError\u001b[0m\u001b[1;31m:\u001b[0m invalid syntax\n"
     ]
    }
   ],
   "source": [
    "#Completer \n",
    "def def_mat(n):\n",
    "    a=np.zeros((n,n))\n",
    "    for i in .........................:\n",
    "        for j in .............................:\n",
    "            if i>j:\n",
    "                ..........................\n",
    "            elif i<j:\n",
    "                .................................\n",
    "            else:\n",
    "                ................................\n",
    "    return ..........................."
   ]
  },
  {
   "cell_type": "markdown",
   "metadata": {},
   "source": [
    "# Partie II : Représentations graphiques sous Python   \n",
    "Nous importons la bibliothèque `matplotlib.pyplot`  \n"
   ]
  },
  {
   "cell_type": "code",
   "execution_count": 43,
   "metadata": {},
   "outputs": [],
   "source": [
    "import matplotlib.pyplot as plt\n"
   ]
  },
  {
   "cell_type": "markdown",
   "metadata": {},
   "source": [
    "**Tracer des lignes**  \n",
    "\n",
    "Pour tracer des lignes, nous devons utiliser la commande **plot** du module **pyplot**. Elle peut ne prendre aucun \n",
    "\n",
    "argument. En effet, si nous lui passons une liste **[a, b, c]** en argument, elle reliera le points **A(0, a)** au \n",
    "\n",
    "point **B(1, b)** et ce point B au point **C(2, c)**. En fait, nous fournissons les ordonnées dans une liste, et les \n",
    "\n",
    "abscisses, elles, sont automatiquement générées et vont de **0** à **len(liste) - 1**. Ainsi, le code suivant…"
   ]
  },
  {
   "cell_type": "code",
   "execution_count": 44,
   "metadata": {},
   "outputs": [
    {
     "data": {
      "text/plain": [
       "[<matplotlib.lines.Line2D at 0x1546f0484f0>]"
      ]
     },
     "execution_count": 44,
     "metadata": {},
     "output_type": "execute_result"
    },
    {
     "data": {
      "image/png": "[encoded data removed]",
      "text/plain": [
       "<Figure size 432x288 with 1 Axes>"
      ]
     },
     "metadata": {
      "needs_background": "light"
     },
     "output_type": "display_data"
    }
   ],
   "source": [
    "plt.plot([0, 1, 2]) "
   ]
  },
  {
   "cell_type": "markdown",
   "metadata": {},
   "source": [
    "Permet d’obtenir la droite passant par les points A(0, 0), B(1, 1) et C(2, 2). Au contraire, le code…"
   ]
  },
  {
   "cell_type": "code",
   "execution_count": 47,
   "metadata": {},
   "outputs": [
    {
     "data": {
      "text/plain": [
       "[<matplotlib.lines.Line2D at 0x1546f3f8f10>]"
      ]
     },
     "execution_count": 47,
     "metadata": {},
     "output_type": "execute_result"
    },
    {
     "data": {
      "image/png": "[encoded data removed]",
      "text/plain": [
       "<Figure size 432x288 with 1 Axes>"
      ]
     },
     "metadata": {
      "needs_background": "light"
     },
     "output_type": "display_data"
    }
   ],
   "source": [
    "plt.plot([1, 0, 2])\n"
   ]
  },
  {
   "cell_type": "markdown",
   "metadata": {},
   "source": [
    "permet d’obtenir les droites passants par les points A(0, 1), B(1, 0) et C(2, 2)"
   ]
  },
  {
   "cell_type": "markdown",
   "metadata": {},
   "source": [
    "**Tracer une figure**  \n",
    "\n",
    "Cependant, on peut aussi passer deux listes en arguments à plot. La première liste correspondra à la liste des \n",
    "\n",
    "abscisses des points qu'on veule  relier et la seconde à la liste de leurs ordonnées. Ainsi, le code précédent \n",
    "\n",
    "pourrait être le suivant."
   ]
  },
  {
   "cell_type": "code",
   "execution_count": 48,
   "metadata": {},
   "outputs": [
    {
     "data": {
      "text/plain": [
       "[<matplotlib.lines.Line2D at 0x1546f45fa00>]"
      ]
     },
     "execution_count": 48,
     "metadata": {},
     "output_type": "execute_result"
    },
    {
     "data": {
      "image/png": "[encoded data removed]",
      "text/plain": [
       "<Figure size 432x288 with 1 Axes>"
      ]
     },
     "metadata": {
      "needs_background": "light"
     },
     "output_type": "display_data"
    }
   ],
   "source": [
    "x = [0, 1, 2]\n",
    "y = [1, 0, 2]\n",
    "plt.plot(x, y)"
   ]
  },
  {
   "cell_type": "markdown",
   "metadata": {},
   "source": [
    "**Exercice (10)**  \n",
    "dessiner le triangle ABC avec A(0, 0), B(1, 1) et C(-1, 1)."
   ]
  },
  {
   "cell_type": "code",
   "execution_count": 49,
   "metadata": {},
   "outputs": [
    {
     "data": {
      "text/plain": [
       "[<matplotlib.lines.Line2D at 0x1546f4cb1c0>]"
      ]
     },
     "execution_count": 49,
     "metadata": {},
     "output_type": "execute_result"
    },
    {
     "data": {
      "image/png": "[encoded data removed]",
      "text/plain": [
       "<Figure size 432x288 with 1 Axes>"
      ]
     },
     "metadata": {
      "needs_background": "light"
     },
     "output_type": "display_data"
    }
   ],
   "source": [
    "x = [0, 1, -1, 0]\n",
    "y = [0, 1, 1, 0]\n",
    "plt.plot(x, y)"
   ]
  },
  {
   "cell_type": "markdown",
   "metadata": {},
   "source": [
    "**Tracer une fonction mathématique** "
   ]
  },
  {
   "cell_type": "markdown",
   "metadata": {},
   "source": [
    "Tracer la fonction `sin()` sur $[0,2\\pi]$.  "
   ]
  },
  {
   "cell_type": "code",
   "execution_count": 50,
   "metadata": {},
   "outputs": [
    {
     "data": {
      "text/plain": [
       "[<matplotlib.lines.Line2D at 0x1546f5239d0>]"
      ]
     },
     "execution_count": 50,
     "metadata": {},
     "output_type": "execute_result"
    },
    {
     "data": {
      "image/png": "[encoded data removed]",
      "text/plain": [
       "<Figure size 432x288 with 1 Axes>"
      ]
     },
     "metadata": {
      "needs_background": "light"
     },
     "output_type": "display_data"
    }
   ],
   "source": [
    "import numpy as np\n",
    "x = np.arange(0, 2 * np.pi, 0.01) # On crée un array qui va de 0 à 2pi exclu avec un pas de 0.01\n",
    "plt.plot(x, np.sin(x)) # On utilise plot avec l'array x et l'array cos(x)"
   ]
  },
  {
   "cell_type": "markdown",
   "metadata": {},
   "source": [
    "**Activité**  \n",
    "\n",
    "Le code suivant trace la même courbe, essayer de le commenter en utilisant toute source possible."
   ]
  },
  {
   "cell_type": "code",
   "execution_count": 51,
   "metadata": {},
   "outputs": [
    {
     "data": {
      "image/png": "[encoded data removed]",
      "text/plain": [
       "<Figure size 1440x720 with 1 Axes>"
      ]
     },
     "metadata": {
      "needs_background": "light"
     },
     "output_type": "display_data"
    }
   ],
   "source": [
    "x=np.arange(0,2*np.pi,0.01)\n",
    "y=np.sin(x)\n",
    "plt.figure(figsize=(20,10))\n",
    "plt.plot(x,y,'r--', linewidth=2, markersize=8) \n",
    "plt.xlabel('x',fontsize=30)\n",
    "plt.legend(('sin(x)'),fontsize=30,loc = 0) \n",
    "plt.xticks(fontsize=20)\n",
    "plt.yticks(fontsize=20)\n",
    "plt.title('Ma première figure', fontsize=30)\n",
    "plt.grid(True)"
   ]
  },
  {
   "cell_type": "markdown",
   "metadata": {},
   "source": [
    "##### Références  \n",
    "\n",
    "[1] [Kiusalaas, J. (2013). Numerical methods in engineering with Python 3. Cambridge university press.](https://books.google.tn/books?hl=fr&lr=&id=YlkgAwAAQBAJ&oi=fnd&pg=PP10&dq=numerical+methods+in+engineering+&ots=-42y60OrWf&sig=wxL2oISNUKKPlvgH4-tsYh1RK9o&redir_esc=y#v=onepage&q=numerical%20methods%20in%20engineering&f=false)  \n",
    "[2] [Numpy Package](https://numpy.org/devdocs/user/quickstart.html)  \n",
    "[3] [Mathplotlib Package](https://matplotlib.org/tutorials/index.html#introductory)  \n",
    "[4] [Jupyter markdowns](http://faccanoni.univ-tln.fr/user/enseignements/20182019/M62-CM1.pdf)"
   ]
  }
 ],
 "metadata": {
  "kernelspec": {
   "display_name": "Python 3 (ipykernel)",
   "language": "python",
   "name": "python3"
  },
  "language_info": {
   "codemirror_mode": {
    "name": "ipython",
    "version": 3
   },
   "file_extension": ".py",
   "mimetype": "text/x-python",
   "name": "python",
   "nbconvert_exporter": "python",
   "pygments_lexer": "ipython3",
   "version": "3.9.12"
  }
 },
 "nbformat": 4,
 "nbformat_minor": 4
}
