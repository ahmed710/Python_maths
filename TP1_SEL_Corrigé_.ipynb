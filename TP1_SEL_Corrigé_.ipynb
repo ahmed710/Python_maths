{
 "cells": [
  {
   "cell_type": "markdown",
   "metadata": {
    "id": "mGJe67LhV8ow"
   },
   "source": [
    "# TP1 : Résolution numérique de systèmes d'équations linéaires"
   ]
  },
  {
   "cell_type": "markdown",
   "metadata": {
    "id": "jLpLCyFBV8o5"
   },
   "source": [
    "## 1. Introduction:"
   ]
  },
  {
   "cell_type": "markdown",
   "metadata": {
    "id": "OaOopW50V8o6"
   },
   "source": [
    "## 1.1. Objectif \n",
    "L'objectif de ce TP est de pouvoir programmer les algorithmes de deux méthodes itératives pour la résolution des Systèmes d'Equations Linéaires (SEL). Ces deux méthodes sont la méthode de ***Jacobi*** et la méthode de ***Gauss-Seidel***. On utilisera dans ce TP les bibliothèques ***numpy***  et ***matplotlib***. \n"
   ]
  },
  {
   "cell_type": "markdown",
   "metadata": {
    "id": "RFybEjyCV8o9"
   },
   "source": [
    "## 1.2. Rappel\n",
    "### 1.2.1. Méthodes de résolution d'un SEL\n",
    " On considère le SEL suivant: $$(S): \\left \\{\n",
    "\\begin{array}{c}\n",
    "a_{11}x_1+a_{12}x_2+\\ldots+a_{1n}x_n=b_1\\\\\n",
    "a_{21}x_1+a_{22}x_2+\\ldots+a_{2n}x_n=b_2\\\\\n",
    "\\vdots\\\\\n",
    "a_{n1}x_1+a_{n2}x_2+\\ldots+a_{nn}x_n=b_n\n",
    "\\end{array}\\right.$$ \n",
    "\n",
    "L'écriture matricielle de $(S)$ est donnée par $AX=b$, avec :  \n",
    "\n",
    " $$A = \\begin{bmatrix}\n",
    "  a_{11} & a_{12} & a_{13} & \\cdots & a_{1n}\\\\\n",
    "  a_{21} & a_{22} & a_{23} & \\cdots & a_{2n}\\\\\n",
    "  a_{31} & a_{32} & a_{33} & \\cdots & a_{3n}\\\\\n",
    "  \\vdots  & \\vdots  & \\vdots  & \\ddots & \\vdots \\\\\n",
    "  a_{n1} & a_{n2} & a_{n3} & \\cdots & a_{nn}\\\\\n",
    "\\end{bmatrix},  X = \\begin{bmatrix}\n",
    "  x_{1} \\\\\n",
    "  x_{2} \\\\\n",
    "  x_{3} \\\\\n",
    "  \\vdots \\\\\n",
    "  x_{n} \\\\\n",
    "\\end{bmatrix}, et\\;  b= \\begin{bmatrix}\n",
    "  b_{1} \\\\\n",
    "  b_{2} \\\\\n",
    "  b_{3} \\\\\n",
    "  \\vdots \\\\\n",
    "  b_{n} \\\\\n",
    "\\end{bmatrix}.$$\n",
    "\n",
    "Il existe deux catégories de méthodes pour la résolution du système $(S)$ :      \n",
    "\n",
    "- les méthodes directes : la solution $X$ est exacte, et donnée après un nombre d'opérations algorithmiques fixé en fonction de $n$, la taille de la matrice $A$.  \n",
    "\n",
    "Exemples : la méthode du pivot de Gauss, la décomposition LU, ...  \n",
    "\n",
    "- les méthodes itératives (ou indirectes) : la solution $X$ est approchée et elle est un terme d'une suite récurrente de vecteurs. Cette solution est donnée une fois qu'une condition d'arrêt imposée à l'algorithme, est satisfaite. \n",
    "\n",
    "Exemples : Jacobi, Gauss-Seidel, ...\n",
    "\n",
    "**Dans ce TP, on se limitera à implémenter les méthodes itératives de Jacobi et de Gauss-Seidel et on donnera quelques applications sur ces méthodes.**\n",
    " "
   ]
  },
  {
   "cell_type": "markdown",
   "metadata": {
    "id": "qkQ7yaYVV8pA"
   },
   "source": [
    "### 1.2.2. Méthodes itératives\n",
    "\n",
    "Les méthodes itératives pour la résolution d'un SEL consistent à avoir une suite récurrente de vecteurs qui converge vers la solution du SEL.   \n",
    "\n",
    "### Principe\n",
    "On suppose que le système linéaire $AX = b$ est de Cramer. Les méthodes itératives se basent sur une décomposition de $A$ sous la forme $A=M-N$ où $M$ est une matrice inversible. Une suite récurrente de solutions $X^{(k)}$, $k\\geq 0$, est ensuite génére comme suit :\n",
    "\\begin{cases}\n",
    "X^{(0)} \\in \\mathbb R^n \\text{ donné}\\\\\n",
    "\\hspace{8cm} (*)\\\\\n",
    "X^{(k+1)}=M^{-1}NX^{(k)}+M^{-1}b.\n",
    "\\end{cases}\n",
    " avec $X^{(0)}$ un vecteur initial.\n",
    "\n",
    "Cette suite converge, sous certaines conditions, vers la solution exacte $X$.\n",
    "\n",
    "Les méthodes itératives de Jacobi et de Gauss-Seidel pour résoudre $(S) : AX = b$, consistent en premier lieu\n",
    "à décomposer $A$ sous la forme :\n",
    "$$A=D-E-F,$$\n",
    "avec \n",
    "- $D$ : matrice diagonale dont les coefficients diagonaux sont ceux de la matrice $A$,\n",
    "- $E$ : matrice triangulaire inférieure dont les coefficients diagonaux sont nuls,\n",
    "- $F$ : matrice triangulaire supérieure dont les coefficients diagonaux sont nuls.\n",
    "\n",
    "Plus précisément, étant donnée une matrice $A=(a_{i,j})\\in M_n(\\mathbb R)$, \n",
    "$$A= \\underbrace{\\begin{pmatrix}\n",
    "a_{1,1}& 0 &\\cdots &0\\\\\n",
    "0&\\ddots&\\ddots&0 \\\\\n",
    "\\vdots&\\ddots&\\ddots &0 \\\\\n",
    "0&\\cdots& 0& a_{n,n}\n",
    "\\end{pmatrix}}_{D}-  \\underbrace{\\begin{pmatrix}\n",
    "0&\\cdots&\\cdots&0\\\\\n",
    "-a_{2,1}&\\ddots&& 0 \\\\\n",
    "\\vdots&\\ddots&\\ddots &0 \\\\\n",
    "-a_{n,1}&\\cdots&-a_{n,n-1}&0\n",
    "\\end{pmatrix}}_{E} -  \\underbrace{\\begin{pmatrix}\n",
    "0&-a_{1,2}&\\cdots& -a_{1,n}\\\\\n",
    "\\vdots &\\ddots&\\ddots& \\vdots \\\\\n",
    "\\vdots &&\\ddots&-a_{n-1,n} \\\\\n",
    "0&\\cdots&\\cdots&0\n",
    "\\end{pmatrix}}_{F}\n",
    "$$\n",
    "Dans $(*)$,\n",
    "- Pour un choix de $M=D$ et $N=E-F$, on obtient la suite générée par la méthode de ***Jacobi***.  \n",
    "\n",
    "- Pour un choix de $M=D-E$ et $N=F$, on obtient la suite générée par la méthode de ***Gauss-Seidel***.  \n",
    "\n",
    "### Convergence \n",
    "***Théorème:*** Si la matrice $A$ est à diagonale strictement dominante ***alors*** les méthodes de Jacobi et de Gauss-Seidel convergent quelque soit le choix du vecteur initial  $X^{(0)}$.\n",
    "\n",
    "### Critère d'arrêt\n",
    "Soit $A=(a_{i,j})_{1\\leq i,j\\leq n} \\in M_n(\\mathbb R)$ avec $a_{ii} \\neq 0$ pour tout $i=1,\\cdots ,n$. Soit $\\varepsilon$ une tolérance donnéee. Parmi les critères d’arrêt pour les méthodes itératives de Jacobi et Gauss-Seidel, on cite\n",
    "$$||AX^{(k)}-b|| \\leq \\varepsilon.$$\n",
    "\n"
   ]
  },
  {
   "cell_type": "markdown",
   "metadata": {
    "id": "Wtqoa_PlV8pC"
   },
   "source": [
    "## 2. Implémentation des méthodes itératives"
   ]
  },
  {
   "cell_type": "code",
   "execution_count": 4,
   "metadata": {
    "id": "-1Ei7Zb5V8pF"
   },
   "outputs": [],
   "source": [
    "import numpy as np\n",
    "import matplotlib.pyplot as plt"
   ]
  },
  {
   "cell_type": "markdown",
   "metadata": {
    "id": "YLCx-PI4V8pJ"
   },
   "source": [
    "## 2.1. Matrice à diagonale strictement dominante"
   ]
  },
  {
   "cell_type": "markdown",
   "metadata": {
    "id": "1hJqQd0UV8pL"
   },
   "source": [
    "### Exercice 1:\n",
    "Ecrire une fonction `matrice_diag_dominante(A)` prenant en entrée $A$, une matrice carrée d'ordre $n$, qui vérifie si cette matrice est à diagonale strictement dominante (etat True) ou non (etat False)."
   ]
  },
  {
   "cell_type": "code",
   "execution_count": 5,
   "metadata": {
    "id": "aBaEXTfdV8pd"
   },
   "outputs": [],
   "source": [
    "def matrice_diag_dominante(A):\n",
    "    n=A.shape[0]\n",
    "    etat=True\n",
    "    i=0\n",
    "    while ((i<n) and (etat==True)):\n",
    "        etat=np.abs(A[i,i])>np.sum(np.abs(A[i,:]))-np.abs(A[i,i])\n",
    "        i+=1\n",
    "    return etat  "
   ]
  },
  {
   "cell_type": "markdown",
   "metadata": {
    "id": "ScNZ5uPXV8pe"
   },
   "source": [
    "### Application 1: \n",
    "Tester la fonction `matrice_diag_dominante()` sur les deux matrices suivantes:\n",
    "$$A=\\begin{pmatrix}\n",
    "4 & -1 & -1 & 0 \\\\\n",
    "-1 & 4 &  0 & -1 \\\\\n",
    "-1 & 0 & 4 & -1 \\\\\n",
    "0 & -1 & -1 & 4\\\\\n",
    "\\end{pmatrix}\\ \\ \\ \\ \\ \\ \n",
    "B=\\begin{pmatrix}\n",
    "2 & -1 & -1 & 0 \\\\\n",
    "-1 & 2 &  0 & -1 \\\\\n",
    "-1 & 0 & 2 & -1 \\\\\n",
    "0 & -1 & -1 & 2\\\\\n",
    "\\end{pmatrix}$$"
   ]
  },
  {
   "cell_type": "code",
   "execution_count": 6,
   "metadata": {
    "id": "zHE1VZoBV8pg",
    "outputId": "fe1455b7-d366-4cba-b9ed-f17879daa1b4"
   },
   "outputs": [
    {
     "name": "stdout",
     "output_type": "stream",
     "text": [
      "A = [[ 4. -1. -1.  0.]\n",
      " [-1.  4.  0. -1.]\n",
      " [-1.  0.  4. -1.]\n",
      " [ 0. -1. -1.  4.]]\n",
      "B = [[ 2. -1. -1.  0.]\n",
      " [-1.  2.  0. -1.]\n",
      " [-1.  0.  2. -1.]\n",
      " [ 0. -1. -1.  2.]]\n",
      "True False\n"
     ]
    }
   ],
   "source": [
    "A=5*np.eye(4)-np.ones(4)\n",
    "[A[0,3],A[1,2],A[2,1],A[3,0]]=np.zeros(4)\n",
    "print('A =',A)\n",
    "B=3*np.eye(4)-np.ones(4)\n",
    "[B[0,3],B[1,2],B[2,1],B[3,0]]=np.zeros(4)\n",
    "print('B =',B)\n",
    "print(matrice_diag_dominante(A),matrice_diag_dominante(B))\n"
   ]
  },
  {
   "cell_type": "markdown",
   "metadata": {
    "id": "OGIBK4dyV8pj"
   },
   "source": [
    "**Remarque:** Pour déterminer la solution exacte d'un SEL $AX=b$, on peut utiliser la fonction pré-définie ***np.linalg.solve(A,b)***."
   ]
  },
  {
   "cell_type": "markdown",
   "metadata": {
    "id": "M8_Pj-LNV8pk"
   },
   "source": [
    "## 2.2. Méthode de Jacobi"
   ]
  },
  {
   "cell_type": "markdown",
   "metadata": {
    "id": "zqYcqKLRV8pl"
   },
   "source": [
    "### Exercice 2:\n",
    "1. Ecrire une fonction `jacobi(A, b, X0, epsilon)` prénant en entrée A, une matrice carrée d'ordre $n$, un vecteur $b$ le second membre, $X^{(0)}$ une condition initiale et $\\epsilon$ une tolérence donnée,  qui renvoie une solution approchée du SEL $AX=b$ par la  méthode de Jacobi.\\\n",
    "On testera au préalable si A est à diagonale strictement dominante, dans le cas contraire, on renverra  𝐴  n'est pas à diagonale strictement dominante.\n",
    "2. Tester la méthode de Jacobi sur le SEL $(S):~AX=b$, avec $b=\\begin{pmatrix}\n",
    "50 \\\\\n",
    "      30 \\\\\n",
    "      70 \\\\\n",
    "      50\\\\\n",
    "    \\end{pmatrix}$, $X^{(0)}=\\begin{pmatrix}\n",
    "  1 \\\\\n",
    "  1 \\\\\n",
    "  1 \\\\\n",
    "  1 \\\\\n",
    "\\end{pmatrix}$ et  $\\varepsilon=10^{-6}$. \n",
    "3. En utilisant la fonction ***np.linalg.solve(A,b)***, résoudre $(S)$.\n",
    "4. Interpréter le résultat.\n",
    "\n",
    "### Question (1) :"
   ]
  },
  {
   "cell_type": "markdown",
   "metadata": {
    "id": "D2EXpl_QV8pm"
   },
   "source": [
    "Le schéma itératif de la méthode de Jacobi est :\n",
    "> $A=D-E-F$\\\n",
    "> $M=D$ \\\n",
    "> $N=E+F$\\\n",
    "> Donner un vecteur initial $X^{(0)}$ et un réel $\\varepsilon$\\\n",
    ">   Tant que $\\|AX^{(k)}-b\\|>\\varepsilon$ faire\n",
    "> > $X^{(k+1)}=M^{−1}N X^{(k)}+M^{-1}b$\n",
    ">\n",
    "> Fin Tant que "
   ]
  },
  {
   "cell_type": "code",
   "execution_count": 7,
   "metadata": {
    "id": "lGv7Ev4zV8px"
   },
   "outputs": [],
   "source": [
    "def jacobi(A, b, X0, epsilon):\n",
    "    etat=matrice_diag_dominante(A)\n",
    "    if  etat==False:\n",
    "        return ('A n\\'est pas à diagonale strictement dominante')\n",
    "    else:\n",
    "        M=np.diagflat(np.diag(A))\n",
    "        inv_M=np.linalg.inv(M)\n",
    "        N=M-A\n",
    "        B=inv_M.dot(N)\n",
    "        C=inv_M.dot(b)\n",
    "        X1=B.dot(X0)+C\n",
    "        k=0\n",
    "        while np.linalg.norm(A.dot(X1)-b,1)>epsilon:\n",
    "            X1=B.dot(X0)+C\n",
    "            X0=X1\n",
    "            k+=1\n",
    "        return X1,k"
   ]
  },
  {
   "cell_type": "markdown",
   "metadata": {
    "id": "Yb-3OwegV8pz"
   },
   "source": [
    "### Question (2) :"
   ]
  },
  {
   "cell_type": "code",
   "execution_count": 8,
   "metadata": {
    "id": "olEafPcQV8pz",
    "outputId": "0dc20105-138f-4111-8dfe-dac45bbafd27"
   },
   "outputs": [
    {
     "name": "stdout",
     "output_type": "stream",
     "text": [
      "(array([[24.99999991],\n",
      "       [19.99999991],\n",
      "       [29.99999991],\n",
      "       [24.99999991]]), 28)\n"
     ]
    }
   ],
   "source": [
    "A=5*np.eye(4)-np.ones(4)\n",
    "[A[0,3],A[1,2],A[2,1],A[3,0]]=np.zeros(4)\n",
    "\n",
    "b=np.array([[50],[30],[70],[50]])\n",
    "X0=np.ones((4,1))\n",
    "epsilon=10**(-6)\n",
    "print(jacobi(A, b, X0, epsilon))\n",
    "\n",
    "\n"
   ]
  },
  {
   "cell_type": "markdown",
   "metadata": {
    "id": "taHmffwzV8p1"
   },
   "source": [
    "### Question (3):"
   ]
  },
  {
   "cell_type": "code",
   "execution_count": 9,
   "metadata": {
    "id": "6b8fR5nPV8p2",
    "outputId": "814968e6-1ee8-4708-ac4a-17b5e7d9f875"
   },
   "outputs": [
    {
     "data": {
      "text/plain": [
       "array([[25.],\n",
       "       [20.],\n",
       "       [30.],\n",
       "       [25.]])"
      ]
     },
     "execution_count": 9,
     "metadata": {},
     "output_type": "execute_result"
    }
   ],
   "source": [
    "np.linalg.solve(A,b)"
   ]
  },
  {
   "cell_type": "markdown",
   "metadata": {
    "id": "iihem3ipV8p3"
   },
   "source": [
    "## 2.3. Méthode de Gauss-Seidel"
   ]
  },
  {
   "cell_type": "markdown",
   "metadata": {
    "id": "nqWEbWu7V8p3"
   },
   "source": [
    "### Exercice 3:\n",
    "1. Ecrire une fonction `Gauss_Seidel(A, b, X0, epsilon)` prénant en entrée A, une matrice carrée d'ordre $n$, un vecteur $b$ le second membre, $X^{(0)}$ une condition initiale et $\\varepsilon$ une tolérence donnée,  qui renvoie une solution approchée du SEL $AX=b$ par la  méthode de Gauss-Seidel.\\\n",
    "On testera au préalable si A est à diagonale strictement dominante, dans le cas contraire, on renverra  𝐴  n'est pas à diagonale strictement dominante.\n",
    "2. Tester la méthode de Gauss-Seidel sur le SEL $(S):~AX=b$, avec $A$ la matrice définie plus haut, $X^{(0)}=\\begin{pmatrix}\n",
    "  1 \\\\\n",
    "  1 \\\\\n",
    "  1 \\\\\n",
    "  1 \\\\\n",
    "\\end{pmatrix}$ et  $\\varepsilon=10^{-6}$. Interpréter le résultat.\n",
    "\n",
    "### Question (1) :"
   ]
  },
  {
   "cell_type": "markdown",
   "metadata": {
    "id": "IF8vkgjtV8p5"
   },
   "source": [
    "\n",
    "Le schéma itératif de la méthode de Gauss-Seidel est :\n",
    ">$A=D-E-F$\\\n",
    "> Donner un vecteur initial $X^{(0)}$ et un réel $\\varepsilon$\\\n",
    "> $M=D-E$\\\n",
    "> $N=F$\\\n",
    ">   Tant que $\\|AX^{(k)}-b\\|>\\varepsilon$ faire\n",
    "> > $X^{(k+1)}=M^{−1}N X^{(k)}+M^{-1}b$\n",
    ">\n",
    "> Fin Tant que "
   ]
  },
  {
   "cell_type": "code",
   "execution_count": 10,
   "metadata": {
    "id": "9fwki2ciV8p6"
   },
   "outputs": [],
   "source": [
    "\n",
    "def gauss_seidel(A, b, X0, epsilon):\n",
    "    etat=matrice_diag_dominante(A)\n",
    "    if  etat==0:\n",
    "        return ('A n\\'est pas à diagonale strictement dominante')\n",
    "    else:\n",
    "        M = np.tril(A) \n",
    "        N = M-A\n",
    "        \n",
    "        invM=np.linalg.inv(M)\n",
    "        B=invM.dot(N)\n",
    "        C=invM.dot(b)\n",
    "        k=0\n",
    "\n",
    "        while np.linalg.norm(A.dot(X0)-b,1)>epsilon:\n",
    "            X0=B.dot(X0)+C\n",
    "            k+=1    \n",
    "        return X0,k"
   ]
  },
  {
   "cell_type": "markdown",
   "metadata": {
    "id": "7V4wi4BfV8p6"
   },
   "source": [
    "### Question (2) :"
   ]
  },
  {
   "cell_type": "code",
   "execution_count": 16,
   "metadata": {
    "id": "ncwPn5R4V8p7",
    "outputId": "8267e3c2-600d-4bdb-894d-872f8fec5511"
   },
   "outputs": [
    {
     "data": {
      "text/plain": [
       "array([[ 4.,  0.,  0.,  0.],\n",
       "       [-1.,  4.,  0.,  0.],\n",
       "       [-1.,  0.,  4.,  0.],\n",
       "       [ 0., -1., -1.,  4.]])"
      ]
     },
     "execution_count": 16,
     "metadata": {},
     "output_type": "execute_result"
    }
   ],
   "source": [
    "M=np.tril(A)\n",
    "M"
   ]
  },
  {
   "cell_type": "markdown",
   "metadata": {
    "id": "b00DXhnjV8p8"
   },
   "source": [
    "## 2.4. Application:"
   ]
  },
  {
   "cell_type": "markdown",
   "metadata": {
    "id": "QhCbsU6mV8p9"
   },
   "source": [
    "##### La condition \"$A$ est une matrice à diaonale strictement dominante\" est-elle nécessaire pour la convergence des méthodes de acobi et de Gauss-Seidel pour la résolution de $AX=b$?\n",
    "Soient $A_1$, $A_2$ et b les matrices suivantes:\n",
    "$$A_1=\\left(\n",
    " \\begin{array}{ccc}1&3&0&1\\\\\n",
    "1&1&4&-1\\\\\n",
    "0&1&3&-1\\\\\n",
    "1&2&3&-8\n",
    "\\end{array}\\right),\\quad  A_2=\\left(\n",
    " \\begin{array}{ccc}1&3&0&1\\\\\n",
    "1&7&4&-1\\\\\n",
    "0&1&3&-1\\\\\n",
    "1&2&3&-8\n",
    "\\end{array}\\right)\\quad \\mbox{et}\\quad b=\\left(\n",
    " \\begin{array}{ccc}1\\\\\n",
    "2\\\\\n",
    "3\\\\\n",
    "4\n",
    "\\end{array}\\right).\n",
    "$$\n",
    "\n",
    "1- Vérifier que chacun des systèmes d'équations linéaires $(S_1): A_1X=b$ et $(S_2): A_2X=b$ admet une unique solution dans $\\mathbb{R}^4$, puis utiliser la fonction **np.linalg.solve(A,b)** pour résoudre $(S_1)$ et $(S_2)$. \n",
    "\n",
    "2- Vérifier, en utilisant la fonction **matrice_diag_dominante(A)**, que $A_1$ et $A_2$ ne sont pas des matrices à diaonale strictement dominante.\n",
    "\n",
    "3- Ecrire deux fonctions **jacobi_sans_test(A,b,X0,epsilon)** et **gauss_seidel_sans_test(A,b,X0,epsilon)** prenant en entrée les matrices $A$, $b$, le vecteur initial $X0$ et la précision epsilon et retournant, respectivement, une solution approchée de $AX=b$ par la méthode de Jacobi et la méthode de Gauss-Seidel sans tester si $A$ est à diagonale strictement dominante.\n",
    "\n",
    "4- En utilisant ces deux fonctions, vérifier que les méthodes de Jacobi et de Gauss-Seidel ne sont pas convergentes pour la résolution de $(S_1)$ mais elles sont convergentes pour la résolution de $(S_2)$.\n",
    "\n",
    "5- Que peut-on conclure?\n"
   ]
  },
  {
   "cell_type": "markdown",
   "metadata": {
    "id": "flTDUoIoV8qJ"
   },
   "source": [
    "### Question (1):\n"
   ]
  },
  {
   "cell_type": "code",
   "execution_count": null,
   "metadata": {
    "id": "4sA8ToYZV8qL",
    "outputId": "ae7ae8d6-be82-4fdf-ca11-8694dff15679"
   },
   "outputs": [
    {
     "name": "stdout",
     "output_type": "stream",
     "text": [
      "76.0\n",
      "-67.99999999999996\n",
      "[[-1.60526316]\n",
      " [ 0.94736842]\n",
      " [ 0.60526316]\n",
      " [-0.23684211]]\n",
      "[[ 3.91176471]\n",
      " [-1.05882353]\n",
      " [ 1.44117647]\n",
      " [ 0.26470588]]\n"
     ]
    }
   ],
   "source": [
    "A1=np.array([[1,3,0,1],[1,1,4,-1],[0,1,3,-1],[1,2,3,-8]])\n",
    "A2=np.array([[1,3,0,1],[1,7,4,-1],[0,1,3,-1],[1,2,3,-8]])\n",
    "b=np.array([[1],[2],[3],[4]])\n",
    "print(np.linalg.det(A1))\n",
    "print(np.linalg.det(A2))\n",
    "print(np.linalg.solve(A1,b))\n",
    "print(np.linalg.solve(A2,b))\n"
   ]
  },
  {
   "cell_type": "markdown",
   "metadata": {
    "id": "Mx4ltjmlV8qM"
   },
   "source": [
    "### Question (2):"
   ]
  },
  {
   "cell_type": "code",
   "execution_count": null,
   "metadata": {
    "id": "Mk1dtVixV8qN",
    "outputId": "bf6bb639-fbda-429a-cb97-6eeb450d6741"
   },
   "outputs": [
    {
     "name": "stdout",
     "output_type": "stream",
     "text": [
      "False\n",
      "False\n"
     ]
    }
   ],
   "source": [
    "print(matrice_diag_dominante(A1))\n",
    "print(matrice_diag_dominante(A2))"
   ]
  },
  {
   "cell_type": "markdown",
   "metadata": {
    "id": "OaX41nUFV8qP"
   },
   "source": [
    "### Question (3):"
   ]
  },
  {
   "cell_type": "code",
   "execution_count": null,
   "metadata": {
    "id": "0OhkEwqVV8qQ"
   },
   "outputs": [],
   "source": [
    "def jacobi_sans_test(A, b, X0, epsilon):\n",
    "    M=np.diagflat(np.diag(A))\n",
    "    inv_M=np.linalg.inv(M)\n",
    "    N=M-A\n",
    "    B=inv_M.dot(N)\n",
    "    C=inv_M.dot(b)\n",
    "    X1=B.dot(X0)+C\n",
    "    k=0\n",
    "    #while np.linalg.norm(X1-X0,1)>epsilon:\n",
    "    while np.linalg.norm(A.dot(X1)-b,1)>epsilon:\n",
    "        X1=B.dot(X0)+C\n",
    "        X0=X1\n",
    "        k+=1    \n",
    "    return X1,k\n",
    "\n",
    "def gauss_seidel_sans_test(A, b, X0, epsilon):\n",
    "    M = np.tril(A) \n",
    "    N = M-A\n",
    "    invM=np.linalg.inv(M)\n",
    "    B=invM.dot(N)\n",
    "    C=invM.dot(b)\n",
    "    k=0\n",
    "    while np.linalg.norm(A.dot(X0)-b,1)>epsilon:\n",
    "        X0=B.dot(X0)+C\n",
    "        k+=1    \n",
    "    return X0,k"
   ]
  },
  {
   "cell_type": "markdown",
   "metadata": {
    "id": "FeXgsxs_V8qR"
   },
   "source": [
    "### Question (4):"
   ]
  },
  {
   "cell_type": "code",
   "execution_count": null,
   "metadata": {
    "id": "CyoP9WldV8qS",
    "outputId": "fb3e6bec-6dec-42f7-8243-949a22c1fdf8"
   },
   "outputs": [
    {
     "name": "stdout",
     "output_type": "stream",
     "text": [
      "(array([[            -inf],\n",
      "       [            -inf],\n",
      "       [-3.80043974e+307],\n",
      "       [ 4.46741611e+307]]), 896)\n",
      "(array([[            -inf],\n",
      "       [             inf],\n",
      "       [-1.40441562e+308],\n",
      "       [ 1.69171768e+307]]), 482)\n",
      "(array([[ 3.91176477],\n",
      "       [-1.0588235 ],\n",
      "       [ 1.44117649],\n",
      "       [ 0.26470586]]), 131)\n",
      "(array([[ 3.91176383],\n",
      "       [-1.05882331],\n",
      "       [ 1.44117634],\n",
      "       [ 0.26470578]]), 34)\n"
     ]
    },
    {
     "name": "stderr",
     "output_type": "stream",
     "text": [
      "C:\\Users\\esprit\\anaconda3\\lib\\site-packages\\numpy\\linalg\\linalg.py:2585: RuntimeWarning: overflow encountered in reduce\n",
      "  ret = add.reduce(abs(x), axis=row_axis).max(axis=col_axis)\n"
     ]
    }
   ],
   "source": [
    "X0=np.array([[0],[0],[0],[0]])\n",
    "epsilon=10**(-6)\n",
    "print(jacobi_sans_test(A1, b, X0, epsilon))\n",
    "print(gauss_seidel_sans_test(A1, b, X0, epsilon))\n",
    "print(jacobi_sans_test(A2, b, X0, epsilon))\n",
    "print(gauss_seidel_sans_test(A2, b, X0, epsilon))"
   ]
  },
  {
   "cell_type": "markdown",
   "metadata": {
    "id": "Fcyks2WMV8qT"
   },
   "source": [
    "### Question (5):"
   ]
  },
  {
   "cell_type": "markdown",
   "metadata": {
    "id": "djWYKMbCV8qT"
   },
   "source": [
    "La condition \"𝐴 est une matrice à diagonale strictement dominante\" n'est pas nécessaire pour la convergence des méthodes de Jacobi et de Gauss-Seidel pour la résolution de 𝐴𝑋=𝑏."
   ]
  },
  {
   "cell_type": "markdown",
   "metadata": {
    "id": "rVdNGQmkV8qU"
   },
   "source": [
    "### Exercice 3 : (En asynchrone)\n",
    "On considère le SEL $(S_n)$ :$AX=b$, avec \n",
    "$$A = \\begin{bmatrix}\n",
    "  8 & -1 & -1 & 0 & 0&\\cdots & 0\\\\\n",
    "  -1 & 8 & -1 & -1 & 0& \\cdots & 0\\\\\n",
    "  -1 & -1 & 8 & -1 & -1 & \\cdots & 0\\\\\n",
    "   &   & \\ddots  & \\ddots & \\ddots & &  \\\\\n",
    "    &   &   & \\ddots & \\ddots & \\ddots&  \\\\\n",
    "     &  &  & -1 & -1 & 8& -1 \\\\\n",
    "  0&\\cdots&\\cdots& 0 & -1 & -1 & 8\\\\\n",
    "\\end{bmatrix},  X = \\begin{bmatrix}\n",
    "  x_{1} \\\\\n",
    "  x_{2} \\\\\n",
    "  x_{3} \\\\\n",
    "  \\vdots \\\\\n",
    "  \\vdots \\\\\n",
    "  \\vdots \\\\\n",
    "  x_{n} \\\\\n",
    "\\end{bmatrix}, \\;  b= \\begin{bmatrix}\n",
    "  6 \\\\\n",
    "  5 \\\\\n",
    "  4 \\\\\n",
    "  \\vdots \\\\\n",
    "  4 \\\\\n",
    "  5 \\\\\n",
    "  6 \\\\\n",
    "\\end{bmatrix}, \\; et \\; n\\geq 5.$$\n",
    "\n",
    "1- Pour $\\varepsilon=10^{-6}$, représenter sur un même graphe, le nombre d'itérations effectuées pour atteindre la convergence par les deux méthodes itératives : Jacobi et Gauss-Seidel, en fonction de $n$ la taille de la matrice.  On considère $n\\in\\{5,10,15,20,25,30\\}$.\n",
    "\n",
    "\n",
    "2- Pour $n=20$, représenter sur un même graphe, le nombre d'itérations effectuées pour atteindre la convergence par les deux méthodes itératives : Jacobi et Gauss-Seidel, en fonction de la précision $\\varepsilon$.  On considère $\\varepsilon\\in\\{10^{-3},10^{-6},10^{-9},10^{-12}\\}$.\n",
    "\n",
    "On considère le vecteur nul comme vecteur initial.  \n",
    "\n",
    "Interpréter les résultats."
   ]
  },
  {
   "cell_type": "code",
   "execution_count": null,
   "metadata": {
    "id": "SNl_e4Q4V8qV"
   },
   "outputs": [],
   "source": [
    "def S_n(n):\n",
    "    A=8*np.eye(n)+np.diagflat(-np.ones(n-1),1)+np.diagflat(-np.ones(n-2),2)+np.diagflat(-np.ones(n-1),-1)+np.diagflat(-np.ones(n-2),-2)\n",
    "    b=4*np.ones((n,1))\n",
    "    [b[0,0], b[-1,0]]=[6,6]\n",
    "    [b[1,0], b[n-2,0]]=[5,5]\n",
    "    return A,b"
   ]
  },
  {
   "cell_type": "markdown",
   "metadata": {
    "id": "AC37tcj2V8qV"
   },
   "source": [
    "### Question (1):"
   ]
  },
  {
   "cell_type": "code",
   "execution_count": null,
   "metadata": {
    "id": "gtHCL0R5V8qV"
   },
   "outputs": [],
   "source": [
    "epsilon=10**(-6)\n",
    "N=np.arange(5,31,5)\n",
    "Iter_J=[]\n",
    "Iter_GS=[]\n",
    "for n in N:\n",
    "    S=S_n(n)\n",
    "    X0=np.zeros((n,1))\n",
    "    J=jacobi(S[0],S[1],X0,epsilon)\n",
    "    GS=gauss_seidel(S[0],S[1],X0,epsilon)\n",
    "    Iter_J.append(J[1])\n",
    "    Iter_GS.append(GS[1])  "
   ]
  },
  {
   "cell_type": "code",
   "execution_count": null,
   "metadata": {
    "id": "xa46vCWfV8qW",
    "outputId": "9a4c486a-b55d-457e-977f-6ed231fab4fc"
   },
   "outputs": [
    {
     "data": {
      "image/png": "[encoded data removed]",
      "text/plain": [
       "<Figure size 1296x720 with 1 Axes>"
      ]
     },
     "metadata": {
      "needs_background": "light"
     },
     "output_type": "display_data"
    }
   ],
   "source": [
    "plt.figure(figsize=(18,10))\n",
    "plt.plot(N,Iter_J,'ro--',N,Iter_GS,'b^--', linewidth=3,markersize=12) \n",
    "plt.xlabel('Taille de la matrice',fontsize=30)\n",
    "plt.ylabel('Nombre d\\'itérations',fontsize=30)\n",
    "plt.legend(('Méthode de Jacobi','Méthode de Gauss-Seidel'),fontsize=20, loc = 0) \n",
    "plt.grid(True)\n",
    "plt.savefig('Comparaison_n.png',format='png') "
   ]
  },
  {
   "cell_type": "markdown",
   "metadata": {
    "id": "OwzKiBvNV8qW"
   },
   "source": [
    "### Question (2):"
   ]
  },
  {
   "cell_type": "code",
   "execution_count": null,
   "metadata": {
    "id": "U52SRnNgV8qX"
   },
   "outputs": [],
   "source": [
    "n=20\n",
    "epsilon=[10**-3,10**-6,10**-9,10**-12]\n",
    "S=S_n(n)\n",
    "X0=np.zeros((n,1))\n",
    "Iter_J=[]\n",
    "Iter_GS=[]\n",
    "for eps in epsilon:\n",
    "    J=jacobi(S[0],S[1],X0,eps)\n",
    "    GS=gauss_seidel(S[0],S[1],X0,eps)\n",
    "    Iter_J.append(J[1])\n",
    "    Iter_GS.append(GS[1])  \n"
   ]
  },
  {
   "cell_type": "code",
   "execution_count": null,
   "metadata": {
    "id": "IhOJBZlGV8qX",
    "outputId": "5103a76a-0bd3-457e-e097-6d7f69b22174",
    "scrolled": true
   },
   "outputs": [
    {
     "data": {
      "image/png": "[encoded data removed]",
      "text/plain": [
       "<Figure size 1440x720 with 1 Axes>"
      ]
     },
     "metadata": {
      "needs_background": "light"
     },
     "output_type": "display_data"
    }
   ],
   "source": [
    "plt.figure(figsize=(20,10))\n",
    "plt.plot(epsilon,Iter_J,'ro--',epsilon,Iter_GS,'b^--', linewidth=3,markersize=12) \n",
    "plt.xscale('log')\n",
    "plt.xlabel('La précision',fontsize=30)\n",
    "plt.ylabel('Nombre d\\'itérations',fontsize=30)\n",
    "plt.legend(('Méthode de Jacobi','Méthode de Gauss-Seidel'),fontsize=20, loc = 0) \n",
    "plt.grid(True)\n",
    "plt.savefig('Comparaison_n.png',format='png') "
   ]
  },
  {
   "cell_type": "markdown",
   "metadata": {
    "id": "2l7eUF2JV8qZ"
   },
   "source": [
    "##### Références  \n",
    "\n",
    "[1] [Kiusalaas, J. (2013). Numerical methods in engineering with Python 3. Cambridge university press.](https://books.google.tn/books?hl=fr&lr=&id=YlkgAwAAQBAJ&oi=fnd&pg=PP10&dq=numerical+methods+in+engineering+&ots=-42y60OrWf&sig=wxL2oISNUKKPlvgH4-tsYh1RK9o&redir_esc=y#v=onepage&q=numerical%20methods%20in%20engineering&f=false)  \n",
    "[2] [Numpy Package](https://numpy.org/devdocs/user/quickstart.html)  \n",
    "[3] [Mathplotlib Package](https://matplotlib.org/tutorials/index.html#introductory)  \n",
    "[4] [Jupyter markdowns](http://faccanoni.univ-tln.fr/user/enseignements/20182019/M62-CM1.pdf)"
   ]
  },
  {
   "cell_type": "markdown",
   "metadata": {
    "id": "pQdS28tDV8qZ"
   },
   "source": [
    "# Compte rendu"
   ]
  },
  {
   "cell_type": "markdown",
   "metadata": {
    "id": "IiArvs1gV8qa"
   },
   "source": [
    "Pour $\\varepsilon\\in]\\frac{-1-\\sqrt 3}{2},\\frac{\\sqrt 3-1}{2}[$ et $n\\geq 3$ fixés, soit $A_{\\varepsilon}$ la matrice symétrique,\n",
    "de taille $n\\times n$, et pentadiagonale de motif $[\\varepsilon^2,\\varepsilon,1,\\varepsilon,\\varepsilon^2]$\n",
    "\n",
    "On considère le SEL $(S_n)$ :$A_{\\varepsilon}X=b$, avec \n",
    "$$A_{\\varepsilon} = \\begin{bmatrix}\n",
    "  1 &  \\varepsilon& \\varepsilon^2 & 0 & 0&\\cdots & 0\\\\\n",
    "   \\varepsilon& 1 & \\varepsilon & \\varepsilon^{2} & 0& \\cdots & 0\\\\\n",
    "  \\varepsilon^{2} & \\varepsilon & 1 & \\varepsilon & \\varepsilon^{2} & \\cdots & 0\\\\\n",
    "   &   & \\ddots  & \\ddots & \\ddots & &  \\\\\n",
    "    &   &   & \\ddots & \\ddots & \\ddots&  \\\\\n",
    "     &  &  & \\varepsilon^2 &  \\varepsilon& 1& \\varepsilon\\\\\n",
    "  0&\\cdots&\\cdots& 0 & \\varepsilon^2 & \\varepsilon & 1\\\\\n",
    "\\end{bmatrix},  X = \\begin{bmatrix}\n",
    "  x_{1} \\\\\n",
    "  x_{2} \\\\\n",
    "  x_{3} \\\\\n",
    "  \\vdots \\\\\n",
    "  \\vdots \\\\\n",
    "  \\vdots \\\\\n",
    "  x_{n} \\\\\n",
    "\\end{bmatrix}, \\;  b= \\begin{bmatrix}\n",
    "  b_1 \\\\\n",
    "  b_2 \\\\\n",
    "  b_3 \\\\\n",
    "  \\vdots \\\\\n",
    "  \\vdots \\\\\n",
    "  \\vdots \\\\\n",
    "  b_n \\\\\n",
    "\\end{bmatrix}, \\; et \\; n\\geq 3.$$\n",
    "\n",
    "\n",
    "\n",
    "\n",
    "\n",
    "\n",
    "\n"
   ]
  },
  {
   "cell_type": "markdown",
   "metadata": {
    "id": "uMCJpKGmV8qb"
   },
   "source": [
    "1. Pour $\\varepsilon =0.2$ et $n=10$. Ecrire la matrice $A_\\varepsilon $ ."
   ]
  },
  {
   "cell_type": "code",
   "execution_count": null,
   "metadata": {
    "id": "6wodPIB3V8qc",
    "outputId": "6d81bccd-c2d9-4fdf-f98e-e975dc57aeba"
   },
   "outputs": [
    {
     "name": "stdout",
     "output_type": "stream",
     "text": [
      "[[1.   0.2  0.04 0.   0.   0.   0.   0.   0.   0.  ]\n",
      " [0.2  1.   0.2  0.04 0.   0.   0.   0.   0.   0.  ]\n",
      " [0.04 0.2  1.   0.2  0.04 0.   0.   0.   0.   0.  ]\n",
      " [0.   0.04 0.2  1.   0.2  0.04 0.   0.   0.   0.  ]\n",
      " [0.   0.   0.04 0.2  1.   0.2  0.04 0.   0.   0.  ]\n",
      " [0.   0.   0.   0.04 0.2  1.   0.2  0.04 0.   0.  ]\n",
      " [0.   0.   0.   0.   0.04 0.2  1.   0.2  0.04 0.  ]\n",
      " [0.   0.   0.   0.   0.   0.04 0.2  1.   0.2  0.04]\n",
      " [0.   0.   0.   0.   0.   0.   0.04 0.2  1.   0.2 ]\n",
      " [0.   0.   0.   0.   0.   0.   0.   0.04 0.2  1.  ]]\n"
     ]
    }
   ],
   "source": [
    "n=10\n",
    "eps=0.2\n",
    "Aeps=np.eye(n)+np.diagflat(eps*np.ones(n-1),1)+np.diagflat((eps**2)*np.ones(n-2),2)+np.diagflat(eps*np.ones(n-1),-1)+np.diagflat((eps**2)*np.ones(n-2),-2)\n",
    "print(Aeps) \n"
   ]
  },
  {
   "cell_type": "code",
   "execution_count": null,
   "metadata": {
    "id": "I_LeQb-pV8qc",
    "outputId": "1db46283-92b3-4cf4-b21d-d38527682515"
   },
   "outputs": [
    {
     "data": {
      "text/plain": [
       "1.0"
      ]
     },
     "execution_count": 19,
     "metadata": {},
     "output_type": "execute_result"
    }
   ],
   "source": [
    "Aeps[0,0]"
   ]
  },
  {
   "cell_type": "markdown",
   "metadata": {
    "id": "jyf4C2BmV8qd"
   },
   "source": [
    "2. Pour $\\varepsilon =0.2$ et $n=10$. Tester si la matrice $A_\\varepsilon $ est à diagonale strictement dominante ."
   ]
  },
  {
   "cell_type": "code",
   "execution_count": null,
   "metadata": {
    "id": "8TqfHWXJV8qe",
    "outputId": "a982d67b-80c3-4e3b-b148-c8d5ed5bfb71"
   },
   "outputs": [
    {
     "data": {
      "text/plain": [
       "True"
      ]
     },
     "execution_count": 20,
     "metadata": {},
     "output_type": "execute_result"
    }
   ],
   "source": [
    " matrice_diag_dominante(Aeps)"
   ]
  },
  {
   "cell_type": "markdown",
   "metadata": {
    "id": "9ZmaUQRwV8qe"
   },
   "source": [
    "3. Ecrire les vecteurs $\\hat{x}=(1,1,....,1)\\in \\mathbb{R}^{n}$ et $b_{\\varepsilon}=A_{\\varepsilon}\\hat{x}$ ."
   ]
  },
  {
   "cell_type": "code",
   "execution_count": null,
   "metadata": {
    "id": "dc1vhd7HV8qf",
    "outputId": "58d6b26a-c08f-448c-b771-7fc65e5a9f5d"
   },
   "outputs": [
    {
     "name": "stdout",
     "output_type": "stream",
     "text": [
      "[1. 1. 1. 1. 1. 1. 1. 1. 1. 1.]\n",
      "[1.24 1.44 1.48 1.48 1.48 1.48 1.48 1.48 1.44 1.24]\n"
     ]
    }
   ],
   "source": [
    "n=10\n",
    "xhat=np.ones(n)\n",
    "print(xhat)\n",
    "beps=Aeps.dot(xhat)\n",
    "print(beps)"
   ]
  },
  {
   "cell_type": "code",
   "execution_count": null,
   "metadata": {
    "id": "GWXmelRNV8qh"
   },
   "outputs": [],
   "source": []
  },
  {
   "cell_type": "markdown",
   "metadata": {
    "id": "rHAwn3hEV8qh"
   },
   "source": [
    "4. Ecrire une fonction jacobi1 (A, b, X0, tol,nmax) prénant en entrée A, une matrice carrée d'ordre  𝑛 , un vecteur  𝑏  le second membre,  𝑋(0)  une condition initiale et  𝜖  une tolérence donnée, une borne supérieur nmax sur le nombre d'intération qui renvoie une solution approchée du SEL  𝐴𝑋=𝑏  par la méthode de Jacobi, en utilisant le shéma itératif ci-dessous."
   ]
  },
  {
   "cell_type": "markdown",
   "metadata": {
    "id": "HnH18AzpV8qh"
   },
   "source": [
    "### Rappel méthode de Jacobi"
   ]
  },
  {
   "cell_type": "markdown",
   "metadata": {
    "id": "4pICbYzKV8qh"
   },
   "source": [
    "Algorithme de Jacobi (Schéma itératif): Donner un vecteur initial $X^{(0)}$ et un réel $\\varepsilon$\n",
    ">   Tant que $\\|AX^{(K)}-b\\|>\\epsilon$ faire\n",
    "> >  Pour $i$ de $1$ à $n$ faire\n",
    "> > >  $$x^{(k+1)}_{i}=\\frac{1}{a_{ii}}\\big(b_{i}-\\underset{j\\neq i}{\\sum_{j=1}^n}a_{ij}x^{(k)}_{j}\\big)$$\n",
    "> >\n",
    "> >  Fin pour \n",
    ">\n",
    "> Fin Tant que "
   ]
  },
  {
   "cell_type": "code",
   "execution_count": null,
   "metadata": {
    "id": "I004MYcCV8qi"
   },
   "outputs": [],
   "source": [
    "def jacobi1(A,b,x0,tol,nmax):\n",
    "    n=A.shape[0]\n",
    "    iter=0\n",
    "    r=b-A.dot(x0)\n",
    "    err=np.linalg.norm(r,1)\n",
    "    x=x0\n",
    "    while (err>tol) and (iter<nmax):\n",
    "        iter=iter+1\n",
    "        xnew=np.zeros(n)\n",
    "     \n",
    "        for i in np.arange(n):\n",
    "            s=0\n",
    "            for j in np.arange (n):\n",
    "                if i!=j:\n",
    "                    s=s+A[i,j]*x[j]\n",
    "            xnew[i]=(b[i]-s)/A[i,i]\n",
    "        x=xnew \n",
    "        r=b-A.dot(x)\n",
    "        err=np.linalg.norm(r,1)\n",
    "    return x,r,err\n",
    "\n",
    "    "
   ]
  },
  {
   "cell_type": "code",
   "execution_count": null,
   "metadata": {
    "id": "UPXatxxtV8qi",
    "outputId": "90877e12-e47a-4fc9-a917-b3504cb9c3a7"
   },
   "outputs": [
    {
     "name": "stdout",
     "output_type": "stream",
     "text": [
      "(array([0.99997084, 0.9999483 , 0.99992908, 0.99991552, 0.99990843,\n",
      "       0.99990843, 0.99991552, 0.99992908, 0.9999483 , 0.99997084]), array([4.23332873e-05, 7.50973941e-05, 1.02984764e-04, 1.22706360e-04,\n",
      "       1.32992256e-04, 1.32992256e-04, 1.22706360e-04, 1.02984764e-04,\n",
      "       7.50973941e-05, 4.23332873e-05]), 0.0009522281234466412)\n"
     ]
    }
   ],
   "source": [
    "x0=np.zeros(n)\n",
    "tol=10**(-3)\n",
    "nmax=10**(3)\n",
    "print(jacobi1(Aeps,beps,x0,tol,nmax))\n",
    "\n"
   ]
  },
  {
   "cell_type": "markdown",
   "metadata": {
    "id": "YET-l3ClV8qj"
   },
   "source": [
    "5- Ecrire une fonction gauss_seidel1(A, b, X0, epsilon) prénant en entrée A, une matrice carrée d'ordre  𝑛 ,\n",
    "un vecteur  𝑏  le second membre,  𝑋(0)  une condition initiale et  𝜖  une tolérence donnée, qui renvoie une \n",
    "solution approchée du SEL  𝐴𝑋=𝑏  par la méthode de Gauss-Seidel, en utilisant le shéma itératif ci-dessous."
   ]
  },
  {
   "cell_type": "markdown",
   "metadata": {
    "id": "mRvD6jkmV8qs"
   },
   "source": [
    "Algorithme de Gauss Seidel(Schéma itératif): Donner un vecteur initial $X^{(0)}$ et un réel $\\varepsilon$\n",
    ">   Tant que $\\|AX^{(K)}-b\\|>\\varepsilon$ faire\n",
    "> > $$x^{(k+1)}_{1}=\\frac{1}{a_{11}}\\big(b_{1}-\\sum_{j=2}^n a_{1j}x^{(k)}_{j}\\big)$$\n",
    "> >  Pour $i$ de $2$ à $n-1$ faire\n",
    "> > >  $$x^{(k+1)}_{i}=\\frac{1}{a_{ii}}\\big(b_{i}-\\sum_{j=1}^{i-1}a_{ij}x^{(k+1)}_{j}-\\sum_{j=i+1}^{n}a_{ij}x^{(k)}_{j}\\big)$$\n",
    "> >\n",
    "> > Fin pour\n",
    "> >  $$x^{(k+1)}_{n}=\\frac{1}{a_{nn}}\\big(b_{n}-\\sum_{j=1}^{n-1} a_{1j}x^{(k+1)}_{j}\\big)$$\n",
    ">\n",
    "> Fin Tant que"
   ]
  },
  {
   "cell_type": "code",
   "execution_count": null,
   "metadata": {
    "id": "CEjuCilnV8qs"
   },
   "outputs": [],
   "source": []
  }
 ],
 "metadata": {
  "colab": {
   "name": "TP1 SEL_Corrigé .ipynb",
   "provenance": []
  },
  "kernelspec": {
   "display_name": "Python 3",
   "language": "python",
   "name": "python3"
  },
  "language_info": {
   "codemirror_mode": {
    "name": "ipython",
    "version": 3
   },
   "file_extension": ".py",
   "mimetype": "text/x-python",
   "name": "python",
   "nbconvert_exporter": "python",
   "pygments_lexer": "ipython3",
   "version": "3.8.8"
  }
 },
 "nbformat": 4,
 "nbformat_minor": 4
}
